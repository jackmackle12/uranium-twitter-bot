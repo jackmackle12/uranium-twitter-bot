{
 "cells": [
  {
   "cell_type": "code",
   "execution_count": 23,
   "metadata": {},
   "outputs": [],
   "source": [
    "import pandas as pd\n",
    "import numpy as np \n",
    "import sqlite3\n",
    "import nltk\n",
    "#nltk.download(\"vader_lexicon\")\n",
    "from nltk.sentiment.vader import SentimentIntensityAnalyzer\n",
    "import seaborn as sns\n",
    "import scipy as sp\n",
    "import sqlite3\n",
    "import re\n",
    "from datetime import datetime"
   ]
  },
  {
   "cell_type": "code",
   "execution_count": 3,
   "metadata": {},
   "outputs": [],
   "source": [
    "conn = sqlite3.connect(\"/Users/jackmackle/py_work/jacksbot/storage/storage.db\")\n",
    "df = pd.read_sql_query(\"SELECT * FROM tweets\", conn)\n",
    "conn.close()"
   ]
  },
  {
   "cell_type": "markdown",
   "metadata": {},
   "source": [
    "# VADER - No Cleaning"
   ]
  },
  {
   "cell_type": "code",
   "execution_count": 4,
   "metadata": {},
   "outputs": [],
   "source": [
    "sid = SentimentIntensityAnalyzer()"
   ]
  },
  {
   "cell_type": "code",
   "execution_count": 36,
   "metadata": {
    "scrolled": false
   },
   "outputs": [],
   "source": [
    "tw_text_list = df[\"full_text\"].tolist()\n",
    "polarity_scores = list(map(sid.polarity_scores, tw_text_list))\n",
    "compound = list(map(lambda x: x[\"compound\"], polarity_scores))"
   ]
  },
  {
   "cell_type": "code",
   "execution_count": 38,
   "metadata": {},
   "outputs": [],
   "source": [
    "df[\"compound_pol\"] = compound"
   ]
  },
  {
   "cell_type": "code",
   "execution_count": 39,
   "metadata": {},
   "outputs": [
    {
     "data": {
      "text/plain": [
       "<AxesSubplot:xlabel='compound_pol', ylabel='Count'>"
      ]
     },
     "execution_count": 39,
     "metadata": {},
     "output_type": "execute_result"
    },
    {
     "data": {
      "image/png": "[encoded data removed]",
      "text/plain": [
       "<Figure size 432x288 with 1 Axes>"
      ]
     },
     "metadata": {
      "needs_background": "light"
     },
     "output_type": "display_data"
    }
   ],
   "source": [
    "sns.histplot(data=df, x=\"compound_pol\")"
   ]
  },
  {
   "cell_type": "markdown",
   "metadata": {},
   "source": [
    "# VADER - Cleaning"
   ]
  },
  {
   "cell_type": "code",
   "execution_count": 40,
   "metadata": {},
   "outputs": [],
   "source": [
    "df_clean = df"
   ]
  },
  {
   "cell_type": "code",
   "execution_count": 45,
   "metadata": {},
   "outputs": [],
   "source": [
    "tw_text_list = df_clean[\"full_text\"].tolist()\n",
    "\n",
    "def remove_handles(text):\n",
    "    r = re.findall(\"@[\\w]*\", text)\n",
    "    for i in r:\n",
    "        text = re.sub(i, \"\", text)\n",
    "        \n",
    "    return text\n",
    "\n",
    "tw_text_list = list(map(remove_handles, tw_text_list))\n",
    "\n",
    "def remove_links(text):\n",
    "    r = re.findall(\"https?://[A-Za-z0-9./]*\", text)\n",
    "    for i in r:\n",
    "        text = re.sub(i, \"\", text)\n",
    "        \n",
    "    return text\n",
    "\n",
    "tw_text_list = list(map(remove_links, tw_text_list))"
   ]
  },
  {
   "cell_type": "code",
   "execution_count": 47,
   "metadata": {},
   "outputs": [],
   "source": [
    "polarity_scores = list(map(sid.polarity_scores, tw_text_list))\n",
    "compound = list(map(lambda x: x[\"compound\"], polarity_scores))"
   ]
  },
  {
   "cell_type": "code",
   "execution_count": 48,
   "metadata": {},
   "outputs": [],
   "source": [
    "df_clean[\"compound_pol\"] = compound"
   ]
  },
  {
   "cell_type": "code",
   "execution_count": 49,
   "metadata": {},
   "outputs": [
    {
     "data": {
      "text/plain": [
       "<AxesSubplot:xlabel='compound_pol', ylabel='Count'>"
      ]
     },
     "execution_count": 49,
     "metadata": {},
     "output_type": "execute_result"
    },
    {
     "data": {
      "image/png": "[encoded data removed]",
      "text/plain": [
       "<Figure size 432x288 with 1 Axes>"
      ]
     },
     "metadata": {
      "needs_background": "light"
     },
     "output_type": "display_data"
    }
   ],
   "source": [
    "sns.histplot(data=df_clean, x=\"compound_pol\")"
   ]
  },
  {
   "cell_type": "code",
   "execution_count": 50,
   "metadata": {},
   "outputs": [
    {
     "data": {
      "text/plain": [
       "Index(['index', 'tweet_id', 'created_at', 'in_reply_to_status', 'full_text',\n",
       "       'verified', 'retweet_count', 'user_id', 'user_name',\n",
       "       'user_followers_coubt', 'compound_pol'],\n",
       "      dtype='object')"
      ]
     },
     "execution_count": 50,
     "metadata": {},
     "output_type": "execute_result"
    }
   ],
   "source": [
    "df_clean.columns"
   ]
  },
  {
   "cell_type": "code",
   "execution_count": 65,
   "metadata": {},
   "outputs": [
    {
     "data": {
      "text/html": [
       "<div>\n",
       "<style scoped>\n",
       "    .dataframe tbody tr th:only-of-type {\n",
       "        vertical-align: middle;\n",
       "    }\n",
       "\n",
       "    .dataframe tbody tr th {\n",
       "        vertical-align: top;\n",
       "    }\n",
       "\n",
       "    .dataframe thead th {\n",
       "        text-align: right;\n",
       "    }\n",
       "</style>\n",
       "<table border=\"1\" class=\"dataframe\">\n",
       "  <thead>\n",
       "    <tr style=\"text-align: right;\">\n",
       "      <th></th>\n",
       "      <th>user_name</th>\n",
       "      <th>compound_pol</th>\n",
       "    </tr>\n",
       "  </thead>\n",
       "  <tbody>\n",
       "    <tr>\n",
       "      <th>751</th>\n",
       "      <td>kinseyfineart</td>\n",
       "      <td>0.9678</td>\n",
       "    </tr>\n",
       "    <tr>\n",
       "      <th>712</th>\n",
       "      <td>headingreset</td>\n",
       "      <td>0.9377</td>\n",
       "    </tr>\n",
       "    <tr>\n",
       "      <th>769</th>\n",
       "      <td>mariarowen_1120</td>\n",
       "      <td>0.9245</td>\n",
       "    </tr>\n",
       "    <tr>\n",
       "      <th>572</th>\n",
       "      <td>WomenInNuclear</td>\n",
       "      <td>0.9078</td>\n",
       "    </tr>\n",
       "    <tr>\n",
       "      <th>52</th>\n",
       "      <td>Atomicrod</td>\n",
       "      <td>0.9062</td>\n",
       "    </tr>\n",
       "    <tr>\n",
       "      <th>...</th>\n",
       "      <td>...</td>\n",
       "      <td>...</td>\n",
       "    </tr>\n",
       "    <tr>\n",
       "      <th>650</th>\n",
       "      <td>corn_cap</td>\n",
       "      <td>-0.8689</td>\n",
       "    </tr>\n",
       "    <tr>\n",
       "      <th>813</th>\n",
       "      <td>patelpiping</td>\n",
       "      <td>-0.8706</td>\n",
       "    </tr>\n",
       "    <tr>\n",
       "      <th>449</th>\n",
       "      <td>SharpMediaNet</td>\n",
       "      <td>-0.8877</td>\n",
       "    </tr>\n",
       "    <tr>\n",
       "      <th>437</th>\n",
       "      <td>SZKwrites</td>\n",
       "      <td>-0.8931</td>\n",
       "    </tr>\n",
       "    <tr>\n",
       "      <th>444</th>\n",
       "      <td>SanctionsAml</td>\n",
       "      <td>-0.8957</td>\n",
       "    </tr>\n",
       "  </tbody>\n",
       "</table>\n",
       "<p>918 rows × 2 columns</p>\n",
       "</div>"
      ],
      "text/plain": [
       "           user_name  compound_pol\n",
       "751    kinseyfineart        0.9678\n",
       "712     headingreset        0.9377\n",
       "769  mariarowen_1120        0.9245\n",
       "572   WomenInNuclear        0.9078\n",
       "52         Atomicrod        0.9062\n",
       "..               ...           ...\n",
       "650         corn_cap       -0.8689\n",
       "813      patelpiping       -0.8706\n",
       "449    SharpMediaNet       -0.8877\n",
       "437        SZKwrites       -0.8931\n",
       "444     SanctionsAml       -0.8957\n",
       "\n",
       "[918 rows x 2 columns]"
      ]
     },
     "execution_count": 65,
     "metadata": {},
     "output_type": "execute_result"
    }
   ],
   "source": [
    "df_cbs = df_clean.groupby(\"user_name\", as_index=False)[\"compound_pol\"].mean()\n",
    "df_cbs.sort_values(by=\"compound_pol\", ascending=False)"
   ]
  },
  {
   "cell_type": "code",
   "execution_count": 78,
   "metadata": {},
   "outputs": [],
   "source": [
    "#pd.to_datetime(pd.Series(['2022-02-27 19:15:57+00:00']), format=\"%m/%d/%Y\")\n",
    "\n",
    "strip_date = list(map(lambda x: x.split()[0], df_clean[\"created_at\"].to_list()))\n",
    "df_clean[\"stripdate\"] = strip_date"
   ]
  },
  {
   "cell_type": "code",
   "execution_count": 82,
   "metadata": {},
   "outputs": [
    {
     "data": {
      "text/html": [
       "<div>\n",
       "<style scoped>\n",
       "    .dataframe tbody tr th:only-of-type {\n",
       "        vertical-align: middle;\n",
       "    }\n",
       "\n",
       "    .dataframe tbody tr th {\n",
       "        vertical-align: top;\n",
       "    }\n",
       "\n",
       "    .dataframe thead th {\n",
       "        text-align: right;\n",
       "    }\n",
       "</style>\n",
       "<table border=\"1\" class=\"dataframe\">\n",
       "  <thead>\n",
       "    <tr style=\"text-align: right;\">\n",
       "      <th></th>\n",
       "      <th>stripdate</th>\n",
       "      <th>compound_pol</th>\n",
       "    </tr>\n",
       "  </thead>\n",
       "  <tbody>\n",
       "    <tr>\n",
       "      <th>0</th>\n",
       "      <td>2022-02-13</td>\n",
       "      <td>0.191110</td>\n",
       "    </tr>\n",
       "    <tr>\n",
       "      <th>1</th>\n",
       "      <td>2022-02-14</td>\n",
       "      <td>0.204342</td>\n",
       "    </tr>\n",
       "    <tr>\n",
       "      <th>2</th>\n",
       "      <td>2022-02-15</td>\n",
       "      <td>0.210986</td>\n",
       "    </tr>\n",
       "    <tr>\n",
       "      <th>3</th>\n",
       "      <td>2022-02-16</td>\n",
       "      <td>0.169869</td>\n",
       "    </tr>\n",
       "    <tr>\n",
       "      <th>4</th>\n",
       "      <td>2022-02-17</td>\n",
       "      <td>0.138976</td>\n",
       "    </tr>\n",
       "    <tr>\n",
       "      <th>5</th>\n",
       "      <td>2022-02-18</td>\n",
       "      <td>0.148210</td>\n",
       "    </tr>\n",
       "    <tr>\n",
       "      <th>6</th>\n",
       "      <td>2022-02-19</td>\n",
       "      <td>0.156225</td>\n",
       "    </tr>\n",
       "    <tr>\n",
       "      <th>7</th>\n",
       "      <td>2022-02-20</td>\n",
       "      <td>0.191318</td>\n",
       "    </tr>\n",
       "    <tr>\n",
       "      <th>8</th>\n",
       "      <td>2022-02-21</td>\n",
       "      <td>0.178904</td>\n",
       "    </tr>\n",
       "    <tr>\n",
       "      <th>9</th>\n",
       "      <td>2022-02-22</td>\n",
       "      <td>0.209989</td>\n",
       "    </tr>\n",
       "    <tr>\n",
       "      <th>10</th>\n",
       "      <td>2022-02-23</td>\n",
       "      <td>0.204645</td>\n",
       "    </tr>\n",
       "    <tr>\n",
       "      <th>11</th>\n",
       "      <td>2022-02-24</td>\n",
       "      <td>0.146955</td>\n",
       "    </tr>\n",
       "    <tr>\n",
       "      <th>12</th>\n",
       "      <td>2022-02-25</td>\n",
       "      <td>0.203090</td>\n",
       "    </tr>\n",
       "    <tr>\n",
       "      <th>13</th>\n",
       "      <td>2022-02-26</td>\n",
       "      <td>0.224405</td>\n",
       "    </tr>\n",
       "    <tr>\n",
       "      <th>14</th>\n",
       "      <td>2022-02-27</td>\n",
       "      <td>0.163252</td>\n",
       "    </tr>\n",
       "  </tbody>\n",
       "</table>\n",
       "</div>"
      ],
      "text/plain": [
       "     stripdate  compound_pol\n",
       "0   2022-02-13      0.191110\n",
       "1   2022-02-14      0.204342\n",
       "2   2022-02-15      0.210986\n",
       "3   2022-02-16      0.169869\n",
       "4   2022-02-17      0.138976\n",
       "5   2022-02-18      0.148210\n",
       "6   2022-02-19      0.156225\n",
       "7   2022-02-20      0.191318\n",
       "8   2022-02-21      0.178904\n",
       "9   2022-02-22      0.209989\n",
       "10  2022-02-23      0.204645\n",
       "11  2022-02-24      0.146955\n",
       "12  2022-02-25      0.203090\n",
       "13  2022-02-26      0.224405\n",
       "14  2022-02-27      0.163252"
      ]
     },
     "execution_count": 82,
     "metadata": {},
     "output_type": "execute_result"
    }
   ],
   "source": [
    "df_clean.groupby(\"stripdate\", as_index=False)[\"compound_pol\"].mean()"
   ]
  },
  {
   "cell_type": "code",
   "execution_count": null,
   "metadata": {},
   "outputs": [],
   "source": []
  }
 ],
 "metadata": {
  "kernelspec": {
   "display_name": "Python 3 (ipykernel)",
   "language": "python",
   "name": "python3"
  },
  "language_info": {
   "codemirror_mode": {
    "name": "ipython",
    "version": 3
   },
   "file_extension": ".py",
   "mimetype": "text/x-python",
   "name": "python",
   "nbconvert_exporter": "python",
   "pygments_lexer": "ipython3",
   "version": "3.9.1"
  }
 },
 "nbformat": 4,
 "nbformat_minor": 2
}
