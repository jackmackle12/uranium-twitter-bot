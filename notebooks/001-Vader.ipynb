{
 "cells": [
  {
   "cell_type": "code",
   "execution_count": 2,
   "metadata": {},
   "outputs": [],
   "source": [
    "import pandas as pd\n",
    "import numpy as np \n",
    "import sqlite3\n",
    "import nltk\n",
    "#nltk.download(\"vader_lexicon\")\n",
    "from nltk.sentiment.vader import SentimentIntensityAnalyzer\n",
    "import seaborn as sns\n",
    "import scipy as sp\n",
    "import sqlite3"
   ]
  },
  {
   "cell_type": "code",
   "execution_count": 3,
   "metadata": {},
   "outputs": [],
   "source": [
    "conn = sqlite3.connect(\"/Users/jackmackle/py_work/jacksbot/storage/storage.db\")\n",
    "df = pd.read_sql_query(\"SELECT * FROM training_data\", conn)\n",
    "conn.close()"
   ]
  },
  {
   "cell_type": "code",
   "execution_count": 8,
   "metadata": {},
   "outputs": [],
   "source": [
    "sid = SentimentIntensityAnalyzer()"
   ]
  },
  {
   "cell_type": "code",
   "execution_count": 11,
   "metadata": {},
   "outputs": [
    {
     "name": "stdout",
     "output_type": "stream",
     "text": [
      "{'neg': 0.071, 'neu': 0.929, 'pos': 0.0, 'compound': -0.1326}\n",
      "Belgium to decide whether or not to extend the life of its nuclear reactors beyond 2025 by mid-March. #uranium #Belgium https://t.co/MDw7Kd2FRK\n",
      "{'neg': 0.0, 'neu': 1.0, 'pos': 0.0, 'compound': 0.0}\n",
      "URA $URNM #U3O8 $NXE $CCO $DML $DNN $UEC $UUUU $U.UN #Nuclear #Uranium #COP26 #Bitcoin - Extreme E reveals first Hydrogen off-road racing Championship... https://t.co/OJzdAr5Ktw\n",
      "{'neg': 0.0, 'neu': 1.0, 'pos': 0.0, 'compound': 0.0}\n",
      "$URA $URNM #U3O8 $NXE $CCO $DML $DNN $UEC $UUUU $U.UN #Nuclear #Uranium #COP26 #Bitcoin - The Future of Global Coal Production (2021-2024F)... https://t.co/5u9zcUguYx https://t.co/GAAApMQbZq\n",
      "{'neg': 0.25, 'neu': 0.603, 'pos': 0.147, 'compound': -0.6811}\n",
      "#uranium really failed to breakout last week. Rejected 50dma &amp; DTL after a nice attempt push, rolled over late in the week. Seems like it want to go lower from here. Sector not ready https://t.co/JCbMunAB1l\n",
      "{'neg': 0.0, 'neu': 0.698, 'pos': 0.302, 'compound': 0.8934}\n",
      "I ♥️ Uranium |  #UraniumBull ⚛️☢️\n",
      "#Nuclear #U3O8 #Uranium \n",
      "\n",
      "SPUT $U Vimy Resource $VMY Paladin Energy $PDN\n",
      "Rio Tinto $RIO Peninsula Energy $PEN \n",
      "Toro Energy $TOE Uranium Energy $UEC\n",
      "92 Energy #92E Valor Resources $VAL\n",
      "Bannerman Energy $BMN Boss Energy $BOE\n",
      "\n",
      "⚛️☢️😎👍🎯🚀💰 https://t.co/mlMvsQipUn\n",
      "{'neg': 0.0, 'neu': 1.0, 'pos': 0.0, 'compound': 0.0}\n",
      "About time. #Uranium, $UUUU, $URA, $CCJ, $URC.V https://t.co/s2bo6Hy62h\n",
      "{'neg': 0.0, 'neu': 0.95, 'pos': 0.05, 'compound': 0.34}\n",
      "@7Kiwi @UraniumTails If US don't sanction #Russia's #nuclear &amp; #Uranium industries, Russia passed a law in 2018 giving Putin the right to halt #Uranium exports to US. Given #China wants all of Russia's Uranium, Putin can counter-sanction US Uranium exports &amp; divert them to China. Who blinks first?👁️\n",
      "{'neg': 0.079, 'neu': 0.825, 'pos': 0.095, 'compound': 0.1245}\n",
      "#uranium Twitter followers right now. Snap out of it! The fundamentals have never been better. Position yourselves to ensure you make it to the other side. https://t.co/3rMGTEO3Od\n",
      "{'neg': 0.091, 'neu': 0.865, 'pos': 0.044, 'compound': -0.2982}\n",
      "@silversuusje @GoldTelegraph_ $UUUU, Colorado based #REE #uranium should be a benefactor. They can handle radioactive off-take that comes with monazite, their source of rare earths. $MP,\n",
      "$LYSCF, avoid monazite since they are not NRC licensed like Energy Fuels. Monazites are a quality source of REE. https://t.co/cgZWCWsvHf\n",
      "{'neg': 0.111, 'neu': 0.791, 'pos': 0.099, 'compound': -0.0772}\n",
      "$URA $URNM #U3O8 $NXE $CCO $DML $DNN $UEC $UUUU $U.UN #Nuclear #Uranium #COP26 #Bitcoin - Looks like weakness is ahead next week... https://t.co/KIiu5RvN5n\n"
     ]
    }
   ],
   "source": [
    "for i in range(10):\n",
    "    print(sid.polarity_scores(df['full_text'][i]))\n",
    "    print(df['full_text'][i])"
   ]
  },
  {
   "cell_type": "code",
   "execution_count": 10,
   "metadata": {},
   "outputs": [
    {
     "data": {
      "text/plain": [
       "'Belgium to decide whether or not to extend the life of its nuclear reactors beyond 2025 by mid-March. #uranium #Belgium https://t.co/MDw7Kd2FRK'"
      ]
     },
     "execution_count": 10,
     "metadata": {},
     "output_type": "execute_result"
    }
   ],
   "source": []
  },
  {
   "cell_type": "code",
   "execution_count": null,
   "metadata": {},
   "outputs": [],
   "source": []
  }
 ],
 "metadata": {
  "kernelspec": {
   "display_name": "Python 3 (ipykernel)",
   "language": "python",
   "name": "python3"
  },
  "language_info": {
   "codemirror_mode": {
    "name": "ipython",
    "version": 3
   },
   "file_extension": ".py",
   "mimetype": "text/x-python",
   "name": "python",
   "nbconvert_exporter": "python",
   "pygments_lexer": "ipython3",
   "version": "3.9.1"
  }
 },
 "nbformat": 4,
 "nbformat_minor": 2
}
